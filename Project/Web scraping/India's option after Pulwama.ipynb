{
 "cells": [
  {
   "cell_type": "code",
   "execution_count": 130,
   "metadata": {
    "collapsed": true
   },
   "outputs": [],
   "source": [
    "import urllib3\n",
    "from bs4 import BeautifulSoup"
   ]
  },
  {
   "cell_type": "code",
   "execution_count": 131,
   "metadata": {
    "collapsed": true
   },
   "outputs": [],
   "source": [
    "url='https://www.thehindu.com/opinion/op-ed/indias-options-after-pulwama/article26305355.ece'"
   ]
  },
  {
   "cell_type": "code",
   "execution_count": 132,
   "metadata": {
    "collapsed": false
   },
   "outputs": [
    {
     "name": "stderr",
     "output_type": "stream",
     "text": [
      "C:\\Users\\welcome\\Anaconda3\\lib\\site-packages\\urllib3\\connectionpool.py:852: InsecureRequestWarning: Unverified HTTPS request is being made. Adding certificate verification is strongly advised. See: https://urllib3.readthedocs.io/en/latest/advanced-usage.html#ssl-warnings\n",
      "  InsecureRequestWarning)\n"
     ]
    }
   ],
   "source": [
    "http=urllib3.PoolManager()\n",
    "response=http.request('GET',url)"
   ]
  },
  {
   "cell_type": "code",
   "execution_count": 133,
   "metadata": {
    "collapsed": false
   },
   "outputs": [
    {
     "name": "stderr",
     "output_type": "stream",
     "text": [
      "C:\\Users\\welcome\\Anaconda3\\lib\\site-packages\\bs4\\__init__.py:181: UserWarning: No parser was explicitly specified, so I'm using the best available HTML parser for this system (\"lxml\"). This usually isn't a problem, but if you run this code on another system, or in a different virtual environment, it may use a different parser and behave differently.\n",
      "\n",
      "The code that caused this warning is on line 193 of the file C:\\Users\\welcome\\Anaconda3\\lib\\runpy.py. To get rid of this warning, change code that looks like this:\n",
      "\n",
      " BeautifulSoup(YOUR_MARKUP})\n",
      "\n",
      "to this:\n",
      "\n",
      " BeautifulSoup(YOUR_MARKUP, \"lxml\")\n",
      "\n",
      "  markup_type=markup_type))\n"
     ]
    }
   ],
   "source": [
    "soup=BeautifulSoup(response.data.decode('utf-8'))"
   ]
  },
  {
   "cell_type": "code",
   "execution_count": 136,
   "metadata": {
    "collapsed": true
   },
   "outputs": [],
   "source": [
    "text=''.join(map(lambda p:p.text,soup.find_all('p')))"
   ]
  },
  {
   "cell_type": "code",
   "execution_count": 138,
   "metadata": {
    "collapsed": false,
    "scrolled": false
   },
   "outputs": [
    {
     "name": "stdout",
     "output_type": "stream",
     "text": [
      "\n",
      "“How is it that a plan to carry out such a major attack on a national highway in a troubled State went undetecte>?” Security forces after a gunbattle with militants in Pinglan, Pulwama district, south Kashmir.>PT>\n",
      "  The deadly terror attack against a Central Reserve Police Force (CRPF) convoy in South Kashmir’s Pulwama district, which was orchestrated by a Jaish-e-Mohammad (JeM) suicide bomber, Adil Ahmad Dar, 22, has once again brought nuclear-armed India and Pakistan close to a potential armed confrontation. There are widespread calls to respond to the attack which killed 40 CRPF personnel. The question, however, is how. The general election may complicate the answer to this question. The BJP leadership knows that if it plays its cards well, it might stand a chance to form the next government. If it bungles, that chance would become weak. This makes the situation far more dangerous in terms of payoff structures and associated risks.So far, Pakistan’s response to the attack has been a blanket and unhelpful denial. Prime Minister Imran Khan has chosen to be quiet about it despite the seething anger in India, even as his Ministers are issuing unconvincing denials. Pakistan needs to stop issuing denials and start acting. Let us be clear: the JeM’s leaders are roaming about freely in Pakistan. This is unacceptable. They must be taken to task immediately and there should be a clampdown on other terror organisations as an emergency measure. The Pakistani establishment’s usual answers — ‘we will come to them eventually’ or ‘we are also already fighting them’ — won’t cut ice any more. If Pakistan truly desires peace with India, it needs to play its part honestly. Pakistan should realise that it would be doing a favour to its citizens by cracking down on terror organisations that are thriving on their soil. And why has Pakistan still not invited India’s National Investigation Agency to investigate the Pathankot terror attack even though India had allowed the visit of the Pakistani team to Pathankot in 2016? Pakistan needs to take action against the terror elements on its soil, now.\n",
      "\n",
      "The challenge in the Pulwama attack\n",
      "Having said that, let’s face some facts: Dar was a local Kashmiri boy, the vehicle used in the attack was local, we do not yet know the source of the explosive, and there is a raging insurgency in Kashmir today. Don’t these facts tell us that New Delhi’s Kashmir policy has been a failure? That it has been unable to calm tempers in Kashmir in the past four and a half years? If so, we must ask the difficult but important question: How did we get to where we are today in Kashmir? Here is some perspective: While in 2013, only six local Kashmiris had joined the ranks of militancy, last year, the figure was close to 200; between 2014 and 2018, ceasefire violations increased five times; between 2015 and 2018, the increase in infiltration attempts more than doubled; and, terrorist-related violence in the Valley has spiked drastically over the past five years.Despite all this, the government was hardly keen to initiate a serious dialogue process with the Kashmiri dissidents. The BJP-PDP government, which fell last year, ensured that the so-called soft separatist space was given away to militants, and the use of aggressive tactics turned south Kashmir’s popular opinion against India. Make no mistake: India finds itself in a bind in Kashmir, and it will take a great deal of political sophistication, backchannel reaching out, and comprehensive political vision to get Kashmir back on track. Do the politicians in New Delhi realise this? I am not sure. Even as the nation stands behind its government, the Central government, when reflecting on the next steps, must accept that its politically unimaginative policy was a failure.Then there is intelligence failure. How is it that a plan to carry out such a major attack, by a local who was on the radar of the local police and other agencies, on a national highway in a troubled State went undetected? Why is that 78 buses with CRPF jawans were allowed to travel in one convoy?If New Delhi seeks to respond to Pakistan for the Pulwama attack, what options does it have? For the BJP government, given that the elections are so close, its retaliation has to be credible, prompt and visible, thereby limiting its options. Stopping the flow of waters to Pakistan is neither practical nor possible. Withdrawing the Most Favoured Nation status would hardly hurt Pakistan, given the low trade volume involved. Isolating Pakistan internationally is easier said than done — China is closer to Pakistan today than ever before, Russia is warming up to it, and given the impending American drawdown in Afghanistan, there is a sense of triumphalism in Pakistan. This is especially so because of the geopolitical importance of the region — it won’t be long before the U.S. makes a comeback.One possible way out is perhaps to talk to China discreetly to get Pakistan to crack down on the JeM, but that will take patience, persuasion and discretion. A government caught in an election season may have too little of any of it. \n",
      "Pulwama attack: Probe on to trace source of explosives\n",
      "What about military options? One can think of four types of kinetic options. The first could be to carry out surgical strikes, like India did it 2016. However, while the Pakistani side did not respond to it then, the reaction this time could be different. If Pakistan responds, the two sides may soon find themselves in an escalating military crisis with little clarity about the outcome, something an election-bound government might fight shy of. The second option is to use strike aircraft to carry out precision strikes in locations across the Line of Control (LoC). But such air incursions are likely to be detected and intercepted by Pakistani radars and air defence systems. If an aircraft is shot down or pilots are captured, it could become a bigger headache for the government. Pakistani retaliatory strikes cannot be ruled out either. The third option is to go in for stand-off strikes without physically crossing the border, using heavy artillery or other precision-guided weapons such as rockets. Stand-off strikes, or fire assaults, across the LoC would be responded to in kind and eventually might not achieve anything. The final option is to carry out covert operations inside Pakistan to take out high-value human targets such as leaders of terror outfits. This might be the least costly and most optimal strategy. However, this would require a great deal of preparation and might not be domestically useful given the amount of secrecy and lack of optics surrounding it.In short, the fundamental problem with kinetic options is uncertainty with regard to what those options would lead to if Pakistan decides to respond. India would do better than Pakistan in a conventional war of attrition, but it may or may not remain conventional and there would be attrition on both sides. Would New Delhi be willing to run those risks so close to a crucial election?Happymon Jacob teaches disarmament studies at Jawaharlal Nehru University, DelhiPlease enter a valid email address.\n",
      "Printable version | Feb 21, 2019 10:14:49 PM | https://www.thehindu.com/opinion/op-ed/indias-options-after-pulwama/article26305355.ece\n",
      "\n",
      "© The Hindu\n",
      "\n",
      "Pakistan’s identity crisis, going back to the debates since its creation, remains unresolved\n",
      "\n"
     ]
    }
   ],
   "source": [
    "print(text)"
   ]
  },
  {
   "cell_type": "code",
   "execution_count": null,
   "metadata": {
    "collapsed": true
   },
   "outputs": [],
   "source": []
  }
 ],
 "metadata": {
  "kernelspec": {
   "display_name": "Python 3",
   "language": "python",
   "name": "python3"
  },
  "language_info": {
   "codemirror_mode": {
    "name": "ipython",
    "version": 3
   },
   "file_extension": ".py",
   "mimetype": "text/x-python",
   "name": "python",
   "nbconvert_exporter": "python",
   "pygments_lexer": "ipython3",
   "version": "3.6.0"
  }
 },
 "nbformat": 4,
 "nbformat_minor": 2
}
